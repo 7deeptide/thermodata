{
 "metadata": {
  "name": "",
  "signature": "sha256:44a719ad876ccc5ef3b6aeb608a9ae43d7638454f9579205d3fd7f8915f9c9df"
 },
 "nbformat": 3,
 "nbformat_minor": 0,
 "worksheets": [
  {
   "cells": [
    {
     "cell_type": "markdown",
     "metadata": {},
     "source": [
      "`thermodata`\n",
      "============\n",
      "\n",
      "Module wraps `thermoinp` providing additional functionality and serving as the main access point."
     ]
    },
    {
     "cell_type": "code",
     "collapsed": false,
     "input": [
      "from thermodata import thermodata\n",
      "from thermodata import thermoinp\n",
      "from thermodata import constants\n",
      "%matplotlib inline"
     ],
     "language": "python",
     "metadata": {},
     "outputs": [],
     "prompt_number": 2
    },
    {
     "cell_type": "code",
     "collapsed": false,
     "input": [
      "chemdb = thermodata.ChemDB()\n",
      "chemdb.select(('Air',))\n",
      "air = chemdb['Air']"
     ],
     "language": "python",
     "metadata": {},
     "outputs": [],
     "prompt_number": 3
    },
    {
     "cell_type": "code",
     "collapsed": false,
     "input": [
      "air.eval_cpmol(300)"
     ],
     "language": "python",
     "metadata": {},
     "outputs": [
      {
       "metadata": {},
       "output_type": "pyout",
       "prompt_number": 4,
       "text": [
        "29.104626933239967"
       ]
      }
     ],
     "prompt_number": 4
    },
    {
     "cell_type": "markdown",
     "metadata": {},
     "source": [
      "Thermodynamic Property Model\n",
      "----------------------------\n",
      "\n",
      "Represented by a family of polynomials.\n",
      "The Interval class encapsulates the polynomial bounds and coefficients.\n",
      "The property model is implemented in `Thermo` and `NASAPoly` (partially)."
     ]
    },
    {
     "cell_type": "markdown",
     "metadata": {},
     "source": [
      "### Lightweight encapsulation\n",
      "\n",
      "Although the `thermodata.Species` class serves a role in the context of this package,\n",
      "there is need for a lightweight implementation that carries only the bare essentials for\n",
      "use in other packages."
     ]
    },
    {
     "cell_type": "code",
     "collapsed": false,
     "input": [
      "constants.R_CEA"
     ],
     "language": "python",
     "metadata": {},
     "outputs": [
      {
       "metadata": {},
       "output_type": "pyout",
       "prompt_number": 5,
       "text": [
        "8.31451"
       ]
      }
     ],
     "prompt_number": 5
    },
    {
     "cell_type": "code",
     "collapsed": false,
     "input": [
      "# from abc import ABCMeta, abstractmethod\n",
      "import collections\n",
      "\n",
      "_NASASpecies = collections.namedtuple('NASASpecies', 'name, molar_mass, gas_constant, polys')\n",
      "\n",
      "class NASASpecies(_NASASpecies):\n",
      "    \n",
      "    chemdb = thermodata.ChemDB()\n",
      "    chemdb.select()\n",
      "    \n",
      "    def __new__(cls, name):\n",
      "        species = cls.chemdb[name]\n",
      "        return super().__new__(cls, species.name, species.Mr, species.R, species.thermo)\n",
      "    \n",
      "    \n",
      "        "
     ],
     "language": "python",
     "metadata": {},
     "outputs": [],
     "prompt_number": 6
    },
    {
     "cell_type": "code",
     "collapsed": false,
     "input": [
      "h2 = NASASpecies('H2')"
     ],
     "language": "python",
     "metadata": {},
     "outputs": [],
     "prompt_number": 13
    },
    {
     "cell_type": "code",
     "collapsed": false,
     "input": [
      "h2.polys.intervals[0]"
     ],
     "language": "python",
     "metadata": {},
     "outputs": [
      {
       "metadata": {},
       "output_type": "pyout",
       "prompt_number": 14,
       "text": [
        "Interval(bounds=(200.0, 1000.0), coeffs=(40783.2321, -800.918604, 8.21470201, -0.01269714457, 1.753605076e-05, -1.20286027e-08, 3.36809349e-12), integration_consts=(2682.484665, -30.43788844))"
       ]
      }
     ],
     "prompt_number": 14
    },
    {
     "cell_type": "code",
     "collapsed": false,
     "input": [
      "help(air)"
     ],
     "language": "python",
     "metadata": {},
     "outputs": [
      {
       "output_type": "stream",
       "stream": "stdout",
       "text": [
        "Help on NASASpecies in module __main__ object:\n",
        "\n",
        "class NASASpecies(NASASpecies)\n",
        " |  Method resolution order:\n",
        " |      NASASpecies\n",
        " |      NASASpecies\n",
        " |      builtins.tuple\n",
        " |      builtins.object\n",
        " |  \n",
        " |  Static methods defined here:\n",
        " |  \n",
        " |  __new__(cls, name)\n",
        " |  \n",
        " |  ----------------------------------------------------------------------\n",
        " |  Data descriptors defined here:\n",
        " |  \n",
        " |  __dict__\n",
        " |      dictionary for instance variables (if defined)\n",
        " |  \n",
        " |  ----------------------------------------------------------------------\n",
        " |  Data and other attributes defined here:\n",
        " |  \n",
        " |  chemdb = {'Be(OH)2': <thermodata.thermodata.Species objec...ata.thermo...\n",
        " |  \n",
        " |  ----------------------------------------------------------------------\n",
        " |  Methods inherited from NASASpecies:\n",
        " |  \n",
        " |  __getnewargs__(self)\n",
        " |      Return self as a plain tuple.  Used by copy and pickle.\n",
        " |  \n",
        " |  __getstate__(self)\n",
        " |      Exclude the OrderedDict from pickling\n",
        " |  \n",
        " |  __repr__(self)\n",
        " |      Return a nicely formatted representation string\n",
        " |  \n",
        " |  _asdict(self)\n",
        " |      Return a new OrderedDict which maps field names to their values.\n",
        " |  \n",
        " |  _replace(_self, **kwds)\n",
        " |      Return a new NASASpecies object replacing specified fields with new values\n",
        " |  \n",
        " |  ----------------------------------------------------------------------\n",
        " |  Class methods inherited from NASASpecies:\n",
        " |  \n",
        " |  _make(iterable, new=<built-in method __new__ of type object at 0x9ca6e0>, len=<built-in function len>) from builtins.type\n",
        " |      Make a new NASASpecies object from a sequence or iterable\n",
        " |  \n",
        " |  ----------------------------------------------------------------------\n",
        " |  Data descriptors inherited from NASASpecies:\n",
        " |  \n",
        " |  gas_constant\n",
        " |      Alias for field number 2\n",
        " |  \n",
        " |  molar_mass\n",
        " |      Alias for field number 1\n",
        " |  \n",
        " |  name\n",
        " |      Alias for field number 0\n",
        " |  \n",
        " |  nasapolys\n",
        " |      Alias for field number 3\n",
        " |  \n",
        " |  ----------------------------------------------------------------------\n",
        " |  Data and other attributes inherited from NASASpecies:\n",
        " |  \n",
        " |  _fields = ('name', 'molar_mass', 'gas_constant', 'nasapolys')\n",
        " |  \n",
        " |  _source = \"from builtins import property as _property, tupl..._itemget...\n",
        " |  \n",
        " |  ----------------------------------------------------------------------\n",
        " |  Methods inherited from builtins.tuple:\n",
        " |  \n",
        " |  __add__(self, value, /)\n",
        " |      Return self+value.\n",
        " |  \n",
        " |  __contains__(self, key, /)\n",
        " |      Return key in self.\n",
        " |  \n",
        " |  __eq__(self, value, /)\n",
        " |      Return self==value.\n",
        " |  \n",
        " |  __ge__(...)\n",
        " |      __ge__=($self, value, /)\n",
        " |      --\n",
        " |      \n",
        " |      Return self>=value.\n",
        " |  \n",
        " |  __getattribute__(self, name, /)\n",
        " |      Return getattr(self, name).\n",
        " |  \n",
        " |  __getitem__(self, key, /)\n",
        " |      Return self[key].\n",
        " |  \n",
        " |  __gt__(self, value, /)\n",
        " |      Return self>value.\n",
        " |  \n",
        " |  __hash__(self, /)\n",
        " |      Return hash(self).\n",
        " |  \n",
        " |  __iter__(self, /)\n",
        " |      Implement iter(self).\n",
        " |  \n",
        " |  __le__(self, value, /)\n",
        " |      Return self<=value.\n",
        " |  \n",
        " |  __len__(self, /)\n",
        " |      Return len(self).\n",
        " |  \n",
        " |  __lt__(self, value, /)\n",
        " |      Return self<value.\n",
        " |  \n",
        " |  __mul__(self, value, /)\n",
        " |      Return self*value.n\n",
        " |  \n",
        " |  __ne__(self, value, /)\n",
        " |      Return self!=value.\n",
        " |  \n",
        " |  __rmul__(self, value, /)\n",
        " |      Return self*value.\n",
        " |  \n",
        " |  __sizeof__(...)\n",
        " |      T.__sizeof__() -- size of T in memory, in bytes\n",
        " |  \n",
        " |  count(...)\n",
        " |      T.count(value) -> integer -- return number of occurrences of value\n",
        " |  \n",
        " |  index(...)\n",
        " |      T.index(value, [start, [stop]]) -> integer -- return first index of value.\n",
        " |      Raises ValueError if the value is not present.\n",
        "\n"
       ]
      }
     ],
     "prompt_number": 21
    },
    {
     "cell_type": "code",
     "collapsed": false,
     "input": [
      "air.thermo.eval_cpmol(300) / air.M"
     ],
     "language": "python",
     "metadata": {},
     "outputs": [
      {
       "metadata": {},
       "output_type": "pyout",
       "prompt_number": 8,
       "text": [
        "1004.816519074932"
       ]
      }
     ],
     "prompt_number": 8
    },
    {
     "cell_type": "code",
     "collapsed": false,
     "input": [
      "interval = thermodata.NASAPoly.from_interval(air.thermo.intervals[0])\n",
      "interval.cp_mol(300)"
     ],
     "language": "python",
     "metadata": {},
     "outputs": [
      {
       "metadata": {},
       "output_type": "pyout",
       "prompt_number": 8,
       "text": [
        "29.104626933239967"
       ]
      }
     ],
     "prompt_number": 8
    },
    {
     "cell_type": "markdown",
     "metadata": {},
     "source": [
      "The following is a proposed extension to the latter for encapsulated plotting functionality:\n",
      "    \n",
      "    import matplotlib.pyplot as plt\n",
      "    import numpy as np\n",
      "\n",
      "    class NASAPoly(thermodata.Interval):\n",
      "    \n",
      "        ...\n",
      "        \n",
      "        def plot(self):\n",
      "            tvector = np.linspace(*self.bounds, num=50)\n",
      "            cpvector = self.cp_mol(tvector)\n",
      "            plt.plot(tvector, cpvector)        \n",
      "        \n",
      "\n",
      "    interval.plot()"
     ]
    },
    {
     "cell_type": "markdown",
     "metadata": {},
     "source": [
      "Before starting, load a `thermoinp.SpeciesRecord` instance as this will be needed:"
     ]
    },
    {
     "cell_type": "code",
     "collapsed": false,
     "input": [
      "db = thermoinp.DB()\n",
      "air = db['Air']"
     ],
     "language": "python",
     "metadata": {},
     "outputs": [],
     "prompt_number": 20
    },
    {
     "cell_type": "markdown",
     "metadata": {},
     "source": [
      "Tabular Properties\n",
      "------------------\n",
      "\n",
      "Prints a table of properties."
     ]
    },
    {
     "cell_type": "code",
     "collapsed": false,
     "input": [
      "table = Table()"
     ],
     "language": "python",
     "metadata": {},
     "outputs": []
    },
    {
     "cell_type": "markdown",
     "metadata": {},
     "source": [
      "Species Representation\n",
      "----------------------\n",
      "\n",
      "The intent is to provide a lightweight representation of chemical species.\n",
      "There is already an implementation present in the `thermodata` module, but it's not\n",
      "flexible enough.\n",
      "The goal here is to strip it down to the bare essentials as it's not much use on its\n",
      "own anyway."
     ]
    },
    {
     "cell_type": "markdown",
     "metadata": {},
     "source": [
      "Provide a constructor for converting the `namedtuple`-based `SpeciesRecord` into a `Species` instance.\n",
      "\n",
      "We want to make use of database values for:\n",
      "\n",
      "  - Name\n",
      "  - Molar Mass\n",
      "  \n",
      "    The database values are \"molecular weights\" which (probably) are technically relative molar masses $M_r$, \n",
      "    a dimensionless quantity (relative to $^{12}\\text{C}$).\n",
      "    To be pedantic in maintaining dimensional correctness, we would ignore the units, \n",
      "    invoke the molar mass constant, $M_u = 1 \\text{ kg/kmol}$, and have proper units. \n",
      "    However, this is effectively a no-op and a little bit of a grey area with regard\n",
      "    to how the original values were assigned so there's little point bothering with this."
     ]
    },
    {
     "cell_type": "code",
     "collapsed": false,
     "input": [
      "class Species(thermodata.Species):\n",
      "    \n",
      "    _Ru = constants.R_CEA\n",
      "    \n",
      "    def __init__(self, name):\n",
      "        self._name = name\n",
      "    \n",
      "    @property\n",
      "    def name(self):\n",
      "        \"\"\"Human-friendly identifier.\"\"\"\n",
      "        return self._name\n",
      "    \n",
      "    @property\n",
      "    def M(self):\n",
      "        \"\"\"Molar mass, M [kg/kmol].\"\"\"\n",
      "        return self._M\n",
      "    \n",
      "    @property\n",
      "    def R(self):\n",
      "        \"\"\"Specific gas constant, R [kg/kmol].\"\"\"\n",
      "        if not hasattr(self, '_R'):\n",
      "            self._R = self._Ru / self.M\n",
      "        return self._R\n",
      "        \n",
      "    \n",
      "    @classmethod\n",
      "    def from_speciesrecord(cls, sr):\n",
      "        \"\"\"Construct an instance from a thermoinp.SpeciesRecord.\"\"\"\n",
      "        \n",
      "        # There's no point trying to handle anything else and failing later\n",
      "        if not isinstance(sr, thermoinp.SpeciesRecord):\n",
      "            raise TypeError(\"Object provided is not the right type.\")\n",
      "        \n",
      "        inst = cls(sr.name)\n",
      "        inst._M = sr.molwt\n",
      "        return inst\n",
      "\n",
      "species = Species.from_speciesrecord(air)"
     ],
     "language": "python",
     "metadata": {},
     "outputs": [],
     "prompt_number": 36
    },
    {
     "cell_type": "code",
     "collapsed": false,
     "input": [
      "species.name, species.M"
     ],
     "language": "python",
     "metadata": {},
     "outputs": [
      {
       "metadata": {},
       "output_type": "pyout",
       "prompt_number": 38,
       "text": [
        "('Air', 28.9651159)"
       ]
      }
     ],
     "prompt_number": 38
    },
    {
     "cell_type": "code",
     "collapsed": false,
     "input": [
      "import inspect\n",
      "print(inspect.getsource(thermodata._dimless_entropy))"
     ],
     "language": "python",
     "metadata": {},
     "outputs": [
      {
       "output_type": "stream",
       "stream": "stdout",
       "text": [
        "def _dimless_entropy(T, a, b):\n",
        "\t# Returns the dimensionless entropy, S/R.\n",
        "\t# T : Temperature, K\n",
        "\t# a : coefficients, len(a) == 7\n",
        "\t# b : integration constant\n",
        "\treturn (- a[0] / T**2 / 2.0\n",
        "\t\t\t- a[1] / T\n",
        "\t\t\t+ (a[2] * log(T) + b)\n",
        "\t\t\t+ a[3] * T\n",
        "\t\t\t+ a[4] * T**2 / 2.0\n",
        "\t\t\t+ a[5] * T**3 / 3.0\n",
        "\t\t\t+ a[6] * T**4 / 4.0\n",
        "\t\t\t)\n",
        "\n"
       ]
      }
     ],
     "prompt_number": 52
    },
    {
     "cell_type": "code",
     "collapsed": false,
     "input": [
      "class DB(thermoinp.DB):\n",
      "    pass"
     ],
     "language": "python",
     "metadata": {},
     "outputs": [],
     "prompt_number": 3
    },
    {
     "cell_type": "code",
     "collapsed": false,
     "input": [
      "class Species(object):\n",
      "    \"\"\"Chemical species with a polynomial property model.\"\"\"\n",
      "    \n",
      "    @classmethod\n",
      "    def from_speciesrecord(cls, srinst):\n",
      "        \"\"\"Construct a Species instance from a thermoinp.SpeciesRecord.\"\"\"\n",
      "        inst = cls(srinst.name, srinst.molwt, srinst.h_formation, srinst.intervals)\n",
      "        return inst\n",
      "    \n",
      "    \n",
      "class NASAPolys(object):\n",
      "    \"\"\"NASA Polynomial property model.\n",
      "    \n",
      "    Provides methods for calculating molar heat capacity, enthalpy and entropy\n",
      "    for chemical species defined in the NASA Glenn Thermodynamic Database\n",
      "    \"\"\"\n",
      "    def __init__(self, species):\n",
      "        self.species = species\n",
      "        self.intervals = species.intervals\n",
      "    \n",
      "    def cpmol(self, T):\n",
      "        \"\"\"Evaluate molar heat capacity [J/(kmol K)] at the specified temperature.\"\"\"\n",
      "        \n",
      "        \n",
      "        \n",
      "        \n",
      "        \n",
      "        "
     ],
     "language": "python",
     "metadata": {},
     "outputs": []
    }
   ],
   "metadata": {}
  }
 ]
}