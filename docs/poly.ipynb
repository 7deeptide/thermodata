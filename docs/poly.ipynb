{
 "metadata": {
  "name": "",
  "signature": "sha256:b75b3dbd305eefa940de13ab46c5e6b947e54509cd7b74d0a29efeb37fbed896"
 },
 "nbformat": 3,
 "nbformat_minor": 0,
 "worksheets": [
  {
   "cells": [
    {
     "cell_type": "markdown",
     "metadata": {},
     "source": [
      "`poly`\n",
      "======\n",
      "\n",
      "Module provides classes for encapsulating NASA thermodynamic polynomials\n",
      "of the form\n",
      "\n",
      "$$\\frac{C_p}{R} = \\frac{a_1}{T^2} + \\frac{a_2}{T} + a_3 + a_4 T + a_5 T^2 + a_6 T^3 + a_7 T^4.$$"
     ]
    },
    {
     "cell_type": "code",
     "collapsed": false,
     "input": [
      "from thermodata import poly"
     ],
     "language": "python",
     "metadata": {},
     "outputs": [],
     "prompt_number": 9
    },
    {
     "cell_type": "markdown",
     "metadata": {},
     "source": [
      "These polynomials model the variance of state quantity values over a\n",
      "defined temperature range. The following is the source representation of\n",
      "the polynomial for the species 'Air' over the range 200-1000 K.\n",
      "\n",
      "        200.000   1000.0007 -2.0 -1.0  0.0  1.0  2.0  3.0  4.0  0.0         8649.264\n",
      "     1.009950160D+04-1.968275610D+02 5.009155110D+00-5.761013730D-03 1.066859930D-05 \n",
      "    -7.940297970D-09 2.185231910D-12                -1.767967310D+02-3.921504225D+00"
     ]
    }
   ],
   "metadata": {}
  }
 ]
}