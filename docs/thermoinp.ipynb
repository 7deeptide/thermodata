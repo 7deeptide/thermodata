{
 "metadata": {
  "name": "",
  "signature": "sha256:cfc0ef8b25f6d215580e4fb331c836865b0c50a7c33a501bf9b19aff52aaf20e"
 },
 "nbformat": 3,
 "nbformat_minor": 0,
 "worksheets": [
  {
   "cells": [
    {
     "cell_type": "markdown",
     "metadata": {},
     "source": [
      "`thermoinp`\n",
      "===========\n",
      "\n",
      "Module provides low-level access to the original database file,\n",
      "returning the species datasets as lightweight `namedtuple` records \n",
      "via a database class.\n",
      "\n",
      "The following sections address different components within this module."
     ]
    },
    {
     "cell_type": "code",
     "collapsed": false,
     "input": [
      "from thermodata import thermoinp\n",
      "from thermodata import poly"
     ],
     "language": "python",
     "metadata": {},
     "outputs": [],
     "prompt_number": 253
    },
    {
     "cell_type": "markdown",
     "metadata": {},
     "source": [
      "Species\n",
      "-------\n",
      "\n",
      "The database contains 80-char lines/records split into three broad categories:\n",
      "\n",
      "  - condensed products\n",
      "  - gas products\n",
      "  - reactants (cannot be equilibrium products)\n",
      "\n",
      "The categories are divided into species datasets consisting of metadata and\n",
      "polynomial specifications for evaluating thermodynamic properties. Each dataset\n",
      "may have 0-3 polynomial specifications corresponding to contiguous temperature\n",
      "intervals (in the case where there are no polynomial specs, metadata varies\n",
      "slightly).\n",
      "\n",
      "For example, the species 'Air' has two polynomial specifications for an \n",
      "overall temperature range of 200-6000 K (with a breakpoint at 1000 K). \n",
      "\n",
      "    metadata _.- Air               Mole%:N2 78.084,O2 20.9476,Ar .9365,CO2 .0319.Gordon,1982.Reac\n",
      "              `-  2 g 9/95 N 1.5617O .41959AR.00937C .00032  .00000 0   28.9651159       -125.530\n",
      "    interval _.-     200.000   1000.0007 -2.0 -1.0  0.0  1.0  2.0  3.0  4.0  0.0         8649.264\n",
      "        1     |   1.009950160D+04-1.968275610D+02 5.009155110D+00-5.761013730D-03 1.066859930D-05 \n",
      "              `- -7.940297970D-09 2.185231910D-12                -1.767967310D+02-3.921504225D+00\n",
      "    interval _.-    1000.000   6000.0007 -2.0 -1.0  0.0  1.0  2.0  3.0  4.0  0.0         8649.264\n",
      "        2     |   2.415214430D+05-1.257874600D+03 5.144558670D+00-2.138541790D-04 7.065227840D-08\n",
      "              `- -1.071483490D-11 6.577800150D-16                 6.462263190D+03-8.147411905D+00\n",
      "\n",
      "The module introduces a `SpeciesRecord` (`namedtuple`) class with fields\n",
      "corresponding to the source datasets. This class provides means to parse these\n",
      "datasets (and contain the field values), but otherwise is not necessary to \n",
      "invoke directly. Interval records are handled by an appropriate `NASAPoly`\n",
      "class."
     ]
    },
    {
     "cell_type": "markdown",
     "metadata": {},
     "source": [
      "Polynomial Specification\n",
      "------------------------\n",
      "\n",
      "Within each species dataset there are 0-3 temperature intervals with \n",
      "an associated polynomial specification. Details about the polynomial\n",
      "form are provided (exponent values) as well as the coefficients and\n",
      "constants of integration for evaluating enthalpy and entropy.\n",
      "\n",
      "$$\\frac{C_p}{R} = \\frac{a_1}{T^2} + \\frac{a_2}{T} + a_3 + a_4 T + a_5 T^2 + a_6 T^3 + a_7 T^4$$\n",
      "\n",
      "These data are handled by the `nasadata` module."
     ]
    },
    {
     "cell_type": "markdown",
     "metadata": {},
     "source": [
      "Unit tests\n",
      "----------\n",
      "\n",
      "### DB"
     ]
    },
    {
     "cell_type": "code",
     "collapsed": false,
     "input": [
      "from thermodata import poly"
     ],
     "language": "python",
     "metadata": {},
     "outputs": [],
     "prompt_number": 386
    },
    {
     "cell_type": "code",
     "collapsed": false,
     "input": [
      "dreload(poly)"
     ],
     "language": "python",
     "metadata": {},
     "outputs": [
      {
       "output_type": "stream",
       "stream": "stdout",
       "text": [
        "Reloading collections\n",
        "Reloading _collections_abc\n",
        "Reloading abc\n",
        "Reloading _weakrefset\n",
        "Reloading _weakref\n",
        "Reloading _collections\n",
        "Reloading operator\n",
        "Reloading _operator\n",
        "Reloading keyword\n",
        "Reloading heapq\n",
        "Reloading itertools\n",
        "Reloading _heapq\n",
        "Reloading reprlib\n",
        "Reloading _thread\n",
        "Reloading thermodata\n"
       ]
      },
      {
       "metadata": {},
       "output_type": "pyout",
       "prompt_number": 387,
       "text": [
        "<module 'thermodata.poly' from 'thermodata/poly.py'>"
       ]
      }
     ],
     "prompt_number": 387
    },
    {
     "cell_type": "code",
     "collapsed": false,
     "input": [
      "coefficients = \"\"\" 9.359095680D+05-4.441073340D+03 1.368958451D+01-1.647526929D-03 3.819863520D-07\n",
      "-3.945148580D-11 1.509592679D-15 0.000000000D+00 4.951216910D+04-5.417083590D+01\n",
      "\"\"\""
     ],
     "language": "python",
     "metadata": {},
     "outputs": [],
     "prompt_number": 394
    },
    {
     "cell_type": "code",
     "collapsed": false,
     "input": [
      "coefficients.splitlines()"
     ],
     "language": "python",
     "metadata": {},
     "outputs": [
      {
       "metadata": {},
       "output_type": "pyout",
       "prompt_number": 395,
       "text": [
        "[' 9.359095680D+05-4.441073340D+03 1.368958451D+01-1.647526929D-03 3.819863520D-07',\n",
        " '-3.945148580D-11 1.509592679D-15 0.000000000D+00 4.951216910D+04-5.417083590D+01']"
       ]
      }
     ],
     "prompt_number": 395
    },
    {
     "cell_type": "code",
     "collapsed": false,
     "input": [
      "parser = poly.Parser()"
     ],
     "language": "python",
     "metadata": {},
     "outputs": [],
     "prompt_number": 390
    },
    {
     "cell_type": "code",
     "collapsed": false,
     "input": [
      "parser._parse_coefficients(coefficients.splitlines())"
     ],
     "language": "python",
     "metadata": {},
     "outputs": [
      {
       "metadata": {},
       "output_type": "pyout",
       "prompt_number": 391,
       "text": [
        "((935909.568,\n",
        "  -4441.07334,\n",
        "  13.68958451,\n",
        "  -0.001647526929,\n",
        "  3.81986352e-07,\n",
        "  -3.94514858e-11,\n",
        "  1.509592679e-15),\n",
        " (49512.1691, -54.1708359))"
       ]
      }
     ],
     "prompt_number": 391
    },
    {
     "cell_type": "code",
     "collapsed": false,
     "input": [
      "sfrom thermodata.tests import test_thermoinp\n",
      "\n",
      "dreload(thermoinp)\n",
      "dreload(test_thermoinp)\n",
      "db = thermoinp.DB()\n",
      "test_gas = test_thermoinp.test_gas"
     ],
     "language": "python",
     "metadata": {},
     "outputs": [
      {
       "output_type": "stream",
       "stream": "stdout",
       "text": [
        "Reloading re\n",
        "Reloading sre_compile\n",
        "Reloading _sre\n",
        "Reloading sre_parse\n",
        "Reloading sre_constants\n",
        "Reloading copyreg\n",
        "Reloading os\n",
        "Reloading errno\n",
        "Reloading stat\n",
        "Reloading _stat\n",
        "Reloading posix\n",
        "Reloading posixpath\n",
        "Reloading genericpath\n",
        "Reloading _collections_abc\n",
        "Reloading abc\n",
        "Reloading _weakrefset\n",
        "Reloading _weakref\n",
        "Reloading collections\n",
        "Reloading _collections\n",
        "Reloading operator\n",
        "Reloading _operator\n",
        "Reloading keyword\n",
        "Reloading heapq\n",
        "Reloading itertools\n",
        "Reloading _heapq\n",
        "Reloading reprlib\n",
        "Reloading _thread\n",
        "Reloading thermodata\n",
        "Reloading os\n",
        "Reloading errno\n",
        "Reloading stat\n",
        "Reloading _stat\n",
        "Reloading posix\n",
        "Reloading posixpath\n",
        "Reloading genericpath\n",
        "Reloading _collections_abc\n",
        "Reloading abc\n",
        "Reloading _weakrefset\n",
        "Reloading _weakref\n",
        "Reloading unittest\n",
        "Reloading unittest.result\n",
        "Reloading"
       ]
      },
      {
       "output_type": "stream",
       "stream": "stdout",
       "text": [
        " io\n",
        "Reloading"
       ]
      },
      {
       "output_type": "stream",
       "stream": "stdout",
       "text": [
        " _io\n",
        "Reloading traceback\n",
        "Reloading linecache\n",
        "Reloading tokenize\n",
        "Reloading codecs\n",
        "Reloading _codecs\n",
        "Reloading collections\n",
        "Reloading _collections\n",
        "Reloading operator\n",
        "Reloading _operator\n",
        "Reloading keyword\n",
        "Reloading heapq\n",
        "Reloading itertools\n",
        "Reloading _heapq\n",
        "Reloading reprlib\n",
        "Reloading _thread\n",
        "Reloading re\n",
        "Reloading sre_compile\n",
        "Reloading _sre\n",
        "Reloading sre_parse\n",
        "Reloading sre_constants\n",
        "Reloading copyreg\n",
        "Reloading token\n",
        "Reloading functools\n",
        "Reloading _functools\n",
        "Reloading types\n",
        "Reloading weakref\n",
        "Reloading unittest.case\n",
        "Reloading"
       ]
      },
      {
       "output_type": "stream",
       "stream": "stdout",
       "text": [
        " difflib\n",
        "Reloading logging\n",
        "Reloading time\n",
        "Reloading warnings\n",
        "Reloading _warnings\n",
        "Reloading string\n",
        "Reloading _string\n",
        "Reloading threading\n",
        "Reloading atexit\n",
        "Reloading pprint\n",
        "Reloading contextlib\n",
        "Reloading unittest.util\n",
        "Reloading unittest.suite\n",
        "Reloading unittest.loader\n",
        "Reloading fnmatch\n",
        "Reloading unittest.main\n",
        "Reloading argparse\n",
        "Reloading copy\n",
        "Reloading org\n",
        "Reloading"
       ]
      },
      {
       "output_type": "stream",
       "stream": "stdout",
       "text": [
        " textwrap\n",
        "Reloading gettext\n",
        "Reloading locale\n",
        "Reloading encodings\n",
        "Reloading encodings.aliases\n",
        "Reloading _locale\n",
        "Reloading struct\n",
        "Reloading _struct\n",
        "Reloading unittest.signals\n",
        "Reloading signal\n",
        "Reloading unittest.runner\n",
        "Reloading thermodata\n",
        "Reloading _bootlocale\n"
       ]
      }
     ],
     "prompt_number": 329
    },
    {
     "cell_type": "code",
     "collapsed": false,
     "input": [
      "h2 = db.lookup('H2$')[0]"
     ],
     "language": "python",
     "metadata": {},
     "outputs": [],
     "prompt_number": 335
    },
    {
     "cell_type": "code",
     "collapsed": false,
     "input": [
      "h2"
     ],
     "language": "python",
     "metadata": {},
     "outputs": [
      {
       "metadata": {},
       "output_type": "pyout",
       "prompt_number": 336,
       "text": [
        "SpeciesRecord(name='H2', comments='Ref-Elm. Gurvich,1978 pt1 p103 pt2 p31.', nintervals=3, refcode='tpis78', formula='H:2.00', phase=0, molwt=2.01588, h_formation=0.0, h_assigned=None, T_reference=None, intervals=(NASAPoly(lim=(200.0, 1000.0), a=(40783.2321, -800.918604, 8.21470201, -0.01269714457, 1.753605076e-05, -1.20286027e-08, 3.36809349e-12), b=(2682.484665, -30.43788844), n=7, exp=(-2.0, -1.0, 0.0, 1.0, 2.0, 3.0, 4.0, 0.0), dh=8468.102), NASAPoly(lim=(1000.0, 6000.0), a=(560812.801, -837.150474, 2.975364532, 0.001252249124, -3.74071619e-07, 5.9366252e-11, -3.6069941e-15), b=(5339.82441, -2.202774769), n=7, exp=(-2.0, -1.0, 0.0, 1.0, 2.0, 3.0, 4.0, 0.0), dh=8468.102), NASAPoly(lim=(6000.0, 20000.0), a=(496688412.0, -314754.7149, 79.8412188, -0.00841478921, 4.75324835e-07, -1.371873492e-11, 1.605461756e-16), b=(2488433.516, -669.572811), n=7, exp=(-2.0, -1.0, 0.0, 1.0, 2.0, 3.0, 4.0, 0.0), dh=8468.102)))"
       ]
      }
     ],
     "prompt_number": 336
    },
    {
     "cell_type": "code",
     "collapsed": false,
     "input": [
      "test_gas"
     ],
     "language": "python",
     "metadata": {},
     "outputs": [
      {
       "metadata": {},
       "output_type": "pyout",
       "prompt_number": 337,
       "text": [
        "SpeciesRecord(name='H2', comments='Ref-Elm. Gurvich,1978 pt1 p103 pt2 p31.', nintervals=3, refcode='tpis78', formula='H:2.00', phase=0, molwt=2.01588, h_formation=0.0, h_assigned=None, T_reference=None, intervals=(NASAPoly(lim=(200, 1000), a=7, b=(-2, -1, 0, 1, 2, 3, 4, 0), n=8468.102, exp=(40783.2321, -800.918604, 8.21470201, -0.01269714457, 1.753605076e-05, -1.20286027e-08, 3.36809349e-12), dh=(2682.484665, -30.43788844)), NASAPoly(lim=(1000, 6000), a=7, b=(-2, -1, 0, 1, 2, 3, 4, 0), n=8468.102, exp=(560812.801, -837.150474, 2.975364532, 0.001252249124, -3.74071619e-07, 5.9366252e-11, -3.6069941e-15), dh=(5339.82441, -2.202774769)), NASAPoly(lim=(6000.0, 20000.0), a=7, b=(-2, -1, 0, 1, 2, 3, 4, 0), n=8468.102, exp=(496688412.0, -314754.7149, 79.8412188, -0.00841478921, 4.75324835e-07, -1.371873492e-11, 1.605461756e-16), dh=(2488433.516, -669.572811))))"
       ]
      }
     ],
     "prompt_number": 337
    },
    {
     "cell_type": "code",
     "collapsed": false,
     "input": [
      "subset = db.subset((x + '$' for x"
     ],
     "language": "python",
     "metadata": {},
     "outputs": [],
     "prompt_number": 316
    },
    {
     "cell_type": "code",
     "collapsed": false,
     "input": [
      "print(len(subset.format().split('\\n')[10]))"
     ],
     "language": "python",
     "metadata": {},
     "outputs": [
      {
       "output_type": "stream",
       "stream": "stdout",
       "text": [
        "12\n"
       ]
      }
     ],
     "prompt_number": 321
    },
    {
     "cell_type": "code",
     "collapsed": false,
     "input": [
      "re.match('^H2$', 'H2O')"
     ],
     "language": "python",
     "metadata": {},
     "outputs": [],
     "prompt_number": 315
    },
    {
     "cell_type": "code",
     "collapsed": false,
     "input": [
      "from thermodata.tests.test_thermoinp import test_gas"
     ],
     "language": "python",
     "metadata": {},
     "outputs": [],
     "prompt_number": 269
    },
    {
     "cell_type": "code",
     "collapsed": false,
     "input": [
      "l = [s.name for s in db.all]"
     ],
     "language": "python",
     "metadata": {},
     "outputs": [],
     "prompt_number": 275
    },
    {
     "cell_type": "code",
     "collapsed": false,
     "input": [
      "import re\n",
      "\n",
      "re.match('H2', 'CH2O')"
     ],
     "language": "python",
     "metadata": {},
     "outputs": [],
     "prompt_number": 282
    },
    {
     "cell_type": "code",
     "collapsed": false,
     "input": [
      "l = [name for name in l if re.match('.*H2', name)]"
     ],
     "language": "python",
     "metadata": {},
     "outputs": [],
     "prompt_number": 286
    },
    {
     "cell_type": "code",
     "collapsed": false,
     "input": [
      "print([s.name for s in db.lookup('.*H2') if s in db.reactant])"
     ],
     "language": "python",
     "metadata": {},
     "outputs": [
      {
       "output_type": "stream",
       "stream": "stdout",
       "text": [
        "['(CH2)x(cr)', 'C2H2(L),acetyle', 'C6H5NH2(L)', 'H2(L)', 'H2O2(L)']\n"
       ]
      }
     ],
     "prompt_number": 298
    },
    {
     "cell_type": "markdown",
     "metadata": {},
     "source": [
      "SpeciesRecord\n",
      "-------------\n",
      "\n",
      "Contains data "
     ]
    },
    {
     "cell_type": "markdown",
     "metadata": {},
     "source": [
      "Extending `thermoinp`\n",
      "---------------------\n",
      "\n",
      "`thermoinp` guarantees access to all of the data in the thermo.inp database.\n",
      "It's sensible to make the `thermoinp` data structures as simply as possible."
     ]
    }
   ],
   "metadata": {}
  }
 ]
}